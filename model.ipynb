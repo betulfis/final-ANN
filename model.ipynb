{
 "cells": [
  {
   "cell_type": "code",
   "execution_count": 2,
   "metadata": {},
   "outputs": [
    {
     "name": "stdout",
     "output_type": "stream",
     "text": [
      "    initial_dropping_condition  x_coordinate  y_coordinate  \\\n",
      "0              tails facing up            34            20   \n",
      "1              tails facing up           -20            10   \n",
      "2              tails facing up            -6            -7   \n",
      "3              tails facing up           -12             4   \n",
      "4              tails facing up            -7            12   \n",
      "..                         ...           ...           ...   \n",
      "100              vertical drop             9            11   \n",
      "101              vertical drop             4             4   \n",
      "102              vertical drop             3             1   \n",
      "103              vertical drop            -9            10   \n",
      "104              vertical drop           -11             5   \n",
      "\n",
      "     distance_from_the_origin side_facing_up  \n",
      "0                   39.446166          tails  \n",
      "1                   22.360680          heads  \n",
      "2                    9.219544          tails  \n",
      "3                   12.649111          heads  \n",
      "4                   13.892444          heads  \n",
      "..                        ...            ...  \n",
      "100                 14.212670          tails  \n",
      "101                  5.656854          heads  \n",
      "102                  3.162278          tails  \n",
      "103                 13.453624          tails  \n",
      "104                 12.083046          tails  \n",
      "\n",
      "[105 rows x 5 columns]\n",
      "Accuracy: 0.6190476190476191\n",
      "Classification Report:\n",
      "              precision    recall  f1-score   support\n",
      "\n",
      "           0       0.70      0.58      0.64        12\n",
      "           1       0.55      0.67      0.60         9\n",
      "\n",
      "    accuracy                           0.62        21\n",
      "   macro avg       0.62      0.62      0.62        21\n",
      "weighted avg       0.63      0.62      0.62        21\n",
      "\n"
     ]
    }
   ],
   "source": [
    "import matplotlib.pyplot as plt\n",
    "import numpy as np\n",
    "import pandas as pd\n",
    "import sklearn.linear_model\n",
    "from sklearn.preprocessing import LabelEncoder, OneHotEncoder, StandardScaler  \n",
    "from sklearn.svm import SVC\n",
    "from sklearn.model_selection import train_test_split  \n",
    "from sklearn.metrics import accuracy_score, classification_report\n",
    "\n",
    "dataset = pd.read_excel(r\"coin_toss.xlsx\")               #reading from the dataset excel file\n",
    "print(dataset)\n",
    "\n",
    "X= dataset.iloc[:,:-2].values                            #first three columns of the file are independent variables (initial condition,x-coordinate,y_coordinate)\n",
    "label_encoder_X= LabelEncoder()                    \n",
    "X[:, 0]= label_encoder_X.fit_transform(X[:, 0]) \n",
    "#initial condition must be encoded (3 initial conditions: 0-dropped with heads up, 1-dropped with tails up, 2-dropped vertically)\n",
    "\n",
    "y = dataset.iloc[:,4].values                            #5th column is the output (heads or tails)\n",
    "labelencoder_y= LabelEncoder()  \n",
    "y= labelencoder_y.fit_transform(y)                      #output must be encoded as 0 and 1\n",
    "\n",
    "X_train, X_test, y_train, y_test= train_test_split(X, y, test_size= 0.2, random_state=0)  #data is splitted as train and test data. 20% of the data is test data\n",
    "\n",
    "scaler = StandardScaler()                               #Standardize features by removing the mean and scaling to unit variance (preprocessing the data)\n",
    "X_train_scaled = scaler.fit_transform(X_train)          #standardizing the independent variables of the train data\n",
    "\n",
    "svm_model = SVC(kernel='rbf')                           #model with Radial Basis Function (RBF) kernel SVM.\n",
    "svm_model.fit(X_train_scaled, y_train)\n",
    "\n",
    "X_test_scaled = scaler.transform(X_test)                #standardizing test data\n",
    "\n",
    "y_pred = svm_model.predict(X_test_scaled)               #model predicts the output of the test data\n",
    "\n",
    "accuracy = accuracy_score(y_test, y_pred)               #calculates the accuracy according to predicted output and real output\n",
    "report = classification_report(y_test, y_pred)\n",
    "\n",
    "print(f'Accuracy: {accuracy}')\n",
    "print(f'Classification Report:\\n{report}')\n"
   ]
  }
 ],
 "metadata": {
  "kernelspec": {
   "display_name": "Python 3",
   "language": "python",
   "name": "python3"
  },
  "language_info": {
   "codemirror_mode": {
    "name": "ipython",
    "version": 3
   },
   "file_extension": ".py",
   "mimetype": "text/x-python",
   "name": "python",
   "nbconvert_exporter": "python",
   "pygments_lexer": "ipython3",
   "version": "3.12.0"
  }
 },
 "nbformat": 4,
 "nbformat_minor": 2
}
