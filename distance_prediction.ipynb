{
 "cells": [
  {
   "cell_type": "code",
   "execution_count": 2,
   "metadata": {},
   "outputs": [
    {
     "name": "stdout",
     "output_type": "stream",
     "text": [
      "Mean Squared Error: 300.73608291326775\n",
      "R-squared: 0.13052991695554872\n",
      "[18.67793479 24.01267297 13.82655078 18.67793479 13.82655078]\n"
     ]
    }
   ],
   "source": [
    "import matplotlib.pyplot as plt\n",
    "import numpy as np\n",
    "import pandas as pd\n",
    "import sklearn.linear_model\n",
    "from sklearn.model_selection import train_test_split\n",
    "from sklearn.ensemble import RandomForestRegressor\n",
    "from sklearn.metrics import mean_squared_error, r2_score\n",
    "from sklearn.preprocessing import StandardScaler\n",
    "from sklearn.svm import SVC\n",
    "from sklearn.preprocessing import LabelEncoder\n",
    "\n",
    "dataset = pd.read_excel(r\"coin_toss.xlsx\")\n",
    "X= dataset.iloc[:,:1].values                            #initial condition is the independent variable \n",
    "label_encoder_X= LabelEncoder()  \n",
    "X[:, 0]= label_encoder_X.fit_transform(X[:, 0])         #encode as 0,1,2\n",
    "y = dataset.iloc[:,3].values                            #distance from the origin is the output\n",
    "\n",
    "X_train, X_test, y_train, y_test = train_test_split(X, y, test_size=0.2, random_state=42)           #splitting data into training and testing datasets (20% test data)\n",
    "\n",
    "scaler = StandardScaler()                           \n",
    "X_train_scaled = scaler.fit_transform(X_train)      #Standardizing the independent variable of train and test data sets\n",
    "X_test_scaled = scaler.transform(X_test)\n",
    "\n",
    "regressor = RandomForestRegressor(random_state=42)  \n",
    "#Since we use one discrete independent variable, found random forest regression classification technique can besuitable for this\n",
    "\n",
    "regressor.fit(X_train_scaled, y_train)          #training the model\n",
    "\n",
    "y_pred = regressor.predict(X_test_scaled)       #model predicts the output of the test dataset\n",
    "\n",
    "mse = mean_squared_error(y_test, y_pred)        #error according to predicted and real output\n",
    "r2 = r2_score(y_test, y_pred)\n",
    "\n",
    "print(f'Mean Squared Error: {mse}')\n",
    "print(f'R-squared: {r2}')\n",
    "\n",
    "X_new=[1],[2],[0],[1],[0]                       #new initial conditions (randomly chosen)\n",
    "X_new_scaled = scaler.transform(X_new)\n",
    "landing_position_prediction = regressor.predict(X_new_scaled)\n",
    "print(landing_position_prediction)              #according to the initial dropping condition:\n",
    "                                                #if the coin is dropped with the heads up (1) :distance from the origin is predicted as 19 cm\n",
    "                                                #if the coin is dropped with the tails up (0) :distance from the origin is predicted as 14 cm\n",
    "                                                #if the coin is dropped vertically (2) :distance from the origin is predicted as 24 cm\n",
    "                                                "
   ]
  }
 ],
 "metadata": {
  "kernelspec": {
   "display_name": "Python 3",
   "language": "python",
   "name": "python3"
  },
  "language_info": {
   "codemirror_mode": {
    "name": "ipython",
    "version": 3
   },
   "file_extension": ".py",
   "mimetype": "text/x-python",
   "name": "python",
   "nbconvert_exporter": "python",
   "pygments_lexer": "ipython3",
   "version": "3.12.0"
  }
 },
 "nbformat": 4,
 "nbformat_minor": 2
}
